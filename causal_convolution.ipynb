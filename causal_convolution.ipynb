{
 "cells": [
  {
   "cell_type": "markdown",
   "id": "53954fa4",
   "metadata": {},
   "source": [
    "Here we add a causal convolution layer to the previous model."
   ]
  },
  {
   "cell_type": "code",
   "execution_count": 1,
   "id": "0607f15e",
   "metadata": {},
   "outputs": [],
   "source": [
    "import torch\n",
    "import torch.nn.functional as F\n",
    "import matplotlib.pyplot as plt\n",
    "%matplotlib inline\n",
    "import time"
   ]
  },
  {
   "cell_type": "code",
   "execution_count": 2,
   "id": "c8d2eba5",
   "metadata": {},
   "outputs": [
    {
     "name": "stdout",
     "output_type": "stream",
     "text": [
      "total of 32033 names\n"
     ]
    },
    {
     "data": {
      "text/plain": [
       "['emma',\n",
       " 'olivia',\n",
       " 'ava',\n",
       " 'isabella',\n",
       " 'sophia',\n",
       " 'charlotte',\n",
       " 'mia',\n",
       " 'amelia',\n",
       " 'harper',\n",
       " 'evelyn']"
      ]
     },
     "execution_count": 2,
     "metadata": {},
     "output_type": "execute_result"
    }
   ],
   "source": [
    "# load a list of popular names\n",
    "words = open('names.txt','r').read().splitlines()\n",
    "print(f'total of {len(words)} names')\n",
    "words[:10]"
   ]
  },
  {
   "cell_type": "code",
   "execution_count": 3,
   "id": "d6ec67b2",
   "metadata": {},
   "outputs": [
    {
     "name": "stdout",
     "output_type": "stream",
     "text": [
      "{1: 'a', 2: 'b', 3: 'c', 4: 'd', 5: 'e', 6: 'f', 7: 'g', 8: 'h', 9: 'i', 10: 'j', 11: 'k', 12: 'l', 13: 'm', 14: 'n', 15: 'o', 16: 'p', 17: 'q', 18: 'r', 19: 's', 20: 't', 21: 'u', 22: 'v', 23: 'w', 24: 'x', 25: 'y', 26: 'z', 0: '.'}\n"
     ]
    }
   ],
   "source": [
    "# build the vocabulary of characters and mappings to/from integers\n",
    "chars = sorted(list(set(''.join(words)))) # get a sorted list of unique characters in words\n",
    "\n",
    "# get a mapping of characters to their indices, then add start/end special token\n",
    "s_to_i = {s : i+1 for i,s in enumerate(chars)}\n",
    "s_to_i['.'] = 0 \n",
    "\n",
    "# invert s_to_i\n",
    "i_to_s = {i : s for s,i in s_to_i.items()}\n",
    "vocab_size = len(s_to_i)\n",
    "print(i_to_s)"
   ]
  },
  {
   "cell_type": "code",
   "execution_count": 4,
   "id": "b66e1b90",
   "metadata": {},
   "outputs": [],
   "source": [
    "# build the dataset\n",
    "\n",
    "def build_dataset(words, block_size = 3):\n",
    "    \n",
    "    # block_size is the context length: number of charachters we consider to predict the next one\n",
    "    X, Y = [], []\n",
    "\n",
    "    for w in words:\n",
    "        context = [0] * block_size # create the sliding window, context filled with '.'\n",
    "\n",
    "        # loop over charachters in the word w\n",
    "        for char in w + '.':\n",
    "            ix = s_to_i[char] # get the index of character char\n",
    "            X.append(context) # add the \n",
    "            Y.append(ix) # add char index to the sequence\n",
    "    #         print(''.join(i_to_s[i] for i in context), '--->', i_to_s[ix]) # print the context and the next character\n",
    "            context = context[1:] + [ix] # crop the old context and add the next character\n",
    "    X = torch.tensor(X)\n",
    "    Y = torch.tensor(Y)\n",
    "    print(X.shape, X.dtype, Y.shape, Y.dtype)\n",
    "    return X, Y"
   ]
  },
  {
   "cell_type": "code",
   "execution_count": 5,
   "id": "274ffb95",
   "metadata": {},
   "outputs": [
    {
     "name": "stdout",
     "output_type": "stream",
     "text": [
      "torch.Size([182625, 12]) torch.int64 torch.Size([182625]) torch.int64\n",
      "torch.Size([22655, 12]) torch.int64 torch.Size([22655]) torch.int64\n",
      "torch.Size([22866, 12]) torch.int64 torch.Size([22866]) torch.int64\n"
     ]
    }
   ],
   "source": [
    "import random\n",
    "random.seed(42)\n",
    "random.shuffle(words)\n",
    "n1 = int(.8*len(words))\n",
    "n2 = int(.9*len(words))\n",
    "\n",
    "block_size = 12\n",
    "\n",
    "# build train, validation and test datasets\n",
    "X_train, Y_train = build_dataset(words[:n1], block_size = block_size)\n",
    "X_val, Y_val = build_dataset(words[n1:n2], block_size = block_size)\n",
    "X_test, Y_test = build_dataset(words[n2:], block_size = block_size)"
   ]
  },
  {
   "cell_type": "markdown",
   "id": "70a7c392",
   "metadata": {},
   "source": [
    "Here, we reuse the Bengio et. al. model as before with an embedding layer, a linear layer and a tanh nonlinear layer along with a batch normalisation layer. We modify the Flatten layer used in the previous model to give it structure of a causal convolution. "
   ]
  },
  {
   "cell_type": "code",
   "execution_count": 6,
   "id": "d2c95c5f",
   "metadata": {},
   "outputs": [],
   "source": [
    "class Embedding:\n",
    "    def __init__(self, num_embeddings, embedding_dim):\n",
    "        self.weight = torch.randn((num_embeddings, embedding_dim))\n",
    "        \n",
    "    def __call__(self, ix):\n",
    "        self.out = self.weight[ix] \n",
    "        return self.out\n",
    "  \n",
    "    def parameters(self):\n",
    "        return [self.weight]\n",
    "    \n",
    "class FlattenConsecutive:\n",
    "    # flattens n consecutive elements and puts them into the last dimension\n",
    "    def __init__(self, n):\n",
    "        self.n = n  \n",
    "        \n",
    "    def __call__(self, x):\n",
    "        B, T, C = x.shape\n",
    "        x = x.view(B, T //self.n, C*self.n)\n",
    "        if x.shape[1] == 1:\n",
    "            x = x.squeeze(1)\n",
    "        self.out = x\n",
    "        return self.out\n",
    "    \n",
    "    def parameters(self):\n",
    "        return []\n",
    "    \n",
    "class Linear:\n",
    "    # Linear transformation neural layer\n",
    "    def __init__(self, n_in, n_out, bias = True):\n",
    "        self.weight = torch.randn((n_in, n_out)) / n_in**.5 # Kaiming initialisation\n",
    "        self.bias = torch.zeros(n_out) if bias else None\n",
    "        \n",
    "    def __call__(self, x):\n",
    "        self.out = x @ self.weight \n",
    "        \n",
    "        if self.bias is not None:\n",
    "            self.out += self.bias\n",
    "            \n",
    "        return self.out\n",
    "    \n",
    "    def parameters(self):\n",
    "        return [self.weight] + ([] if self.bias is None else [self.bias])\n",
    "    \n",
    "class Tanh:\n",
    "    # tanh non-lineraity layer\n",
    "    def __call__(self, x):\n",
    "        self.out = torch.tanh(x)\n",
    "        return self.out\n",
    "    \n",
    "    def parameters(self):\n",
    "        return []\n",
    "    \n",
    "class BatchNorm1d:\n",
    "    # batch normalisation layer\n",
    "    \n",
    "    def __init__(self, dim, eps = 1e-05, momentum = .1):\n",
    "        \n",
    "        self.eps = eps\n",
    "        self.momentum = momentum\n",
    "        self.training = True # distinguish between batchnorm for training and for evaluation modes\n",
    "        \n",
    "        # parameter trained with backpropogation\n",
    "        self.gamma = torch.ones(dim) # scale parameter\n",
    "        self.beta = torch.zeros(dim) # shift parameter\n",
    "        \n",
    "        # buffers trained with 'momentum update'\n",
    "        self.running_mean = torch.zeros(dim)\n",
    "        self.running_var = torch.ones(dim)\n",
    "        \n",
    "    def __call__(self, x):\n",
    "        \n",
    "        # forward pass\n",
    "        if self.training == True:\n",
    "            if x.ndim == 2:\n",
    "                dim = 0\n",
    "            elif x.ndim == 3:\n",
    "                dim = (0,1)\n",
    "            x_mean = x.mean(dim, keepdim = True) # use batch mean\n",
    "            x_var = x.var(dim, keepdim = True) # use batch variance\n",
    "        else:\n",
    "            x_mean = self.running_mean\n",
    "            x_var = self.running_var\n",
    "\n",
    "        x_hat = (x - x_mean)/torch.sqrt(x_var + self.eps) # standardise\n",
    "        self.out = self.gamma * x_hat + self.beta \n",
    "        \n",
    "        if self.training:\n",
    "            with torch.no_grad():\n",
    "                self.running_mean = (1 - self.momentum) * self.running_mean + self.momentum * x_mean\n",
    "                self.running_var = (1 - self.momentum) * self.running_var + self.momentum * x_var\n",
    "                \n",
    "        return self.out\n",
    "    \n",
    "    def parameters(self):\n",
    "        return [self.gamma, self.beta]\n",
    "\n",
    "class Sequential:\n",
    "    def __init__(self, layers):\n",
    "        self.layers = layers\n",
    "        \n",
    "    def __repr__(self):\n",
    "        return f'Sequential model, number of layers: {len(self.layers)}, number of parameters: {sum([p.numel() for layer in self.layers for p in layer.parameters()])}'\n",
    "    \n",
    "    def __call__(self, x):\n",
    "        for layer in self.layers:\n",
    "            x = layer(x)\n",
    "        self.out = x\n",
    "        return self.out\n",
    "    \n",
    "    def add(self, layer):\n",
    "        self.layers.append(layer)\n",
    "    \n",
    "    def parameters(self):\n",
    "        return [p for layer in self.layers for p in layer.parameters()]"
   ]
  },
  {
   "cell_type": "markdown",
   "id": "26a14350",
   "metadata": {},
   "source": [
    "Let us further implement a dropout layer."
   ]
  },
  {
   "cell_type": "code",
   "execution_count": 7,
   "id": "a1256156",
   "metadata": {},
   "outputs": [],
   "source": [
    "class Dropout:\n",
    "    # Drop out layer   \n",
    "    def __init__(self, p=0.5):\n",
    "        self.p = p\n",
    "        self.training = True\n",
    "\n",
    "    def __call__(self, x):\n",
    "        if not self.training or self.p == 0:\n",
    "            return x\n",
    "        mask = torch.empty_like(x).bernoulli_(1 - self.p)\n",
    "        self.out = x * mask / (1 - self.p)\n",
    "        return self.out\n",
    "    \n",
    "    def parameters(self):\n",
    "        return []"
   ]
  },
  {
   "cell_type": "code",
   "execution_count": 8,
   "id": "6680a16c",
   "metadata": {},
   "outputs": [
    {
     "name": "stdout",
     "output_type": "stream",
     "text": [
      "number of parameters: 1040959\n"
     ]
    }
   ],
   "source": [
    "torch.manual_seed(42)\n",
    "n_embd = 16\n",
    "n_hidden = 500\n",
    "\n",
    "model = Sequential([\n",
    "    Embedding(vocab_size, n_embd),\n",
    "    FlattenConsecutive(3), Linear(n_embd * 3, n_hidden, bias=False), BatchNorm1d(n_hidden), Tanh(),\n",
    "    FlattenConsecutive(2), Linear(n_hidden * 2, n_hidden, bias=False), BatchNorm1d(n_hidden), Tanh(),\n",
    "    FlattenConsecutive(2), Linear(n_hidden * 2, n_hidden, bias=False), BatchNorm1d(n_hidden), Dropout(), Tanh(),\n",
    "    Linear(n_hidden, vocab_size)]) \n",
    "\n",
    "print(f'number of parameters: { sum([p.numel() for layer in model.layers for p in layer.parameters()])}')\n",
    "with torch.no_grad():\n",
    "    model.layers[-1].weight *= .1\n",
    "    \n",
    "for p in model.parameters(): \n",
    "    p.requires_grad = True"
   ]
  },
  {
   "cell_type": "code",
   "execution_count": 9,
   "id": "d36d5bd1",
   "metadata": {},
   "outputs": [],
   "source": [
    "lossi = []\n",
    "batch_size = 32"
   ]
  },
  {
   "cell_type": "code",
   "execution_count": 10,
   "id": "409801d2",
   "metadata": {},
   "outputs": [],
   "source": [
    "torch.manual_seed(42)\n",
    "def train(X, Y, n_epochs = 200000, lr = .1):\n",
    "    for i in range(n_epochs):\n",
    "        # minibatch construct\n",
    "        ix = torch.randint(0, X_train.shape[0], (batch_size,))\n",
    "        X_batch, Y_batch = X_train[ix], Y_train[ix]\n",
    "        \n",
    "        # forward pass\n",
    "        logits = model(X_batch)\n",
    "        loss = F.cross_entropy(logits, Y_batch) # compute the loss\n",
    "        \n",
    "        # backward pass\n",
    "        for p in model.parameters():\n",
    "            p.grad = None\n",
    "\n",
    "        loss.backward()\n",
    "        \n",
    "        # update\n",
    "        lr = lr if i < int(n_epochs/1.5) else lr/10 # lower learning rate for the end of training\n",
    "        \n",
    "        for p in model.parameters():\n",
    "            p.data += -lr * p.grad\n",
    "            \n",
    "        # track stats\n",
    "        if i % 10000 == 0: # print every once in a while\n",
    "            print(f'{i:7d}/{n_epochs:7d}: {loss.item():.4f}')\n",
    "        lossi.append(loss.log10().item())\n",
    "    print(f'{n_epochs:7d}/{n_epochs:7d}: {loss.item():.4f}')\n",
    "    "
   ]
  },
  {
   "cell_type": "code",
   "execution_count": 11,
   "id": "80233b89",
   "metadata": {},
   "outputs": [
    {
     "name": "stdout",
     "output_type": "stream",
     "text": [
      "      0/ 200000: 3.3030\n",
      "  10000/ 200000: 2.0767\n",
      "  20000/ 200000: 1.9178\n",
      "  30000/ 200000: 2.0504\n",
      "  40000/ 200000: 1.9045\n",
      "  50000/ 200000: 1.6902\n",
      "  60000/ 200000: 1.9167\n",
      "  70000/ 200000: 2.3792\n",
      "  80000/ 200000: 1.8360\n",
      "  90000/ 200000: 1.5887\n",
      " 100000/ 200000: 1.7780\n",
      " 110000/ 200000: 2.2002\n",
      " 120000/ 200000: 1.9987\n",
      " 130000/ 200000: 2.1432\n",
      " 140000/ 200000: 1.8224\n",
      " 150000/ 200000: 1.5881\n",
      " 160000/ 200000: 1.5751\n",
      " 170000/ 200000: 1.5816\n",
      " 180000/ 200000: 2.2491\n",
      " 190000/ 200000: 1.9832\n",
      " 200000/ 200000: 1.5757\n"
     ]
    }
   ],
   "source": [
    "n_epochs = 200000\n",
    "\n",
    "train(X_train, Y_train, n_epochs = n_epochs)"
   ]
  },
  {
   "cell_type": "code",
   "execution_count": 12,
   "id": "984c34ba",
   "metadata": {},
   "outputs": [
    {
     "data": {
      "text/plain": [
       "[<matplotlib.lines.Line2D at 0x7fe3097e25e0>]"
      ]
     },
     "execution_count": 12,
     "metadata": {},
     "output_type": "execute_result"
    },
    {
     "data": {
      "image/png": "[encoded data removed]",
      "text/plain": [
       "<Figure size 640x480 with 1 Axes>"
      ]
     },
     "metadata": {},
     "output_type": "display_data"
    }
   ],
   "source": [
    "plt.plot(torch.tensor(lossi).view(-1,1000).mean(1))"
   ]
  },
  {
   "cell_type": "code",
   "execution_count": 13,
   "id": "38e57732",
   "metadata": {},
   "outputs": [
    {
     "name": "stdout",
     "output_type": "stream",
     "text": [
      "Embedding : (32, 12, 16)\n",
      "FlattenConsecutive : (32, 4, 48)\n",
      "Linear : (32, 4, 500)\n",
      "BatchNorm1d : (32, 4, 500)\n",
      "Tanh : (32, 4, 500)\n",
      "FlattenConsecutive : (32, 2, 1000)\n",
      "Linear : (32, 2, 500)\n",
      "BatchNorm1d : (32, 2, 500)\n",
      "Tanh : (32, 2, 500)\n",
      "FlattenConsecutive : (32, 1000)\n",
      "Linear : (32, 500)\n",
      "BatchNorm1d : (32, 500)\n",
      "Dropout : (32, 500)\n",
      "Tanh : (32, 500)\n",
      "Linear : (32, 27)\n"
     ]
    }
   ],
   "source": [
    "for layer in model.layers:\n",
    "    print(layer.__class__.__name__,':', tuple(layer.out.shape))"
   ]
  },
  {
   "cell_type": "code",
   "execution_count": 14,
   "id": "6af75c7a",
   "metadata": {},
   "outputs": [],
   "source": [
    "for layer in model.layers:\n",
    "    layer.training = False"
   ]
  },
  {
   "cell_type": "code",
   "execution_count": 15,
   "id": "3cf48ebb",
   "metadata": {},
   "outputs": [
    {
     "name": "stdout",
     "output_type": "stream",
     "text": [
      "train 1.7675418853759766\n",
      "val 2.075198173522949\n",
      "test 2.0703155994415283\n"
     ]
    }
   ],
   "source": [
    "@torch.no_grad()\n",
    "def split_loss(split):\n",
    "    x,y = {\n",
    "        'train': (X_train, Y_train),\n",
    "        'val': (X_val, Y_val),\n",
    "        'test': (X_test, Y_test),\n",
    "    }[split]\n",
    "    \n",
    "    logits = model(x)\n",
    "    loss = F.cross_entropy(logits,y)\n",
    "    print(split,loss.item())\n",
    "split_loss('train')\n",
    "split_loss('val')\n",
    "split_loss('test')"
   ]
  },
  {
   "cell_type": "code",
   "execution_count": 16,
   "id": "5b96f81d",
   "metadata": {},
   "outputs": [
    {
     "name": "stdout",
     "output_type": "stream",
     "text": [
      "yansy.\n",
      "kaviah.\n",
      "kellen.\n",
      "saleigh.\n",
      "brexlee.\n",
      "arhen.\n",
      "enderlyn.\n",
      "jian.\n",
      "abkella.\n",
      "ashano.\n",
      "zaeven.\n",
      "margoe.\n",
      "keeza.\n",
      "korran.\n",
      "rumen.\n",
      "nacelyn.\n",
      "anari.\n",
      "zeriah.\n",
      "tanna.\n",
      "daumoni.\n"
     ]
    }
   ],
   "source": [
    "torch.manual_seed(42)\n",
    "for _ in range(20):\n",
    "    \n",
    "    out = []\n",
    "    context = [0] * block_size # initialize with all ...\n",
    "    while True:\n",
    "      # forward pass the neural net\n",
    "        logits = model(torch.tensor([context]))\n",
    "        probs = F.softmax(logits, dim=1)\n",
    "      # sample from the distribution\n",
    "        ix = torch.multinomial(probs, num_samples=1).item()\n",
    "      # shift the context window and track the samples\n",
    "        context = context[1:] + [ix]\n",
    "        out.append(ix)\n",
    "      # if we sample the special '.' token, break\n",
    "        if ix == 0:\n",
    "            break\n",
    "    print(''.join(i_to_s[i] for i in out)) # decode and print the generated word"
   ]
  }
 ],
 "metadata": {
  "kernelspec": {
   "display_name": "Python 3 (ipykernel)",
   "language": "python",
   "name": "python3"
  },
  "language_info": {
   "codemirror_mode": {
    "name": "ipython",
    "version": 3
   },
   "file_extension": ".py",
   "mimetype": "text/x-python",
   "name": "python",
   "nbconvert_exporter": "python",
   "pygments_lexer": "ipython3",
   "version": "3.9.13"
  }
 },
 "nbformat": 4,
 "nbformat_minor": 5
}
