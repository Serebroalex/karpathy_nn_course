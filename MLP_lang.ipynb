{
 "cells": [
  {
   "cell_type": "markdown",
   "id": "53954fa4",
   "metadata": {},
   "source": [
    "Here we shall implement the model of \"A Neural Probabilistic Language Model\" of Bengio et. al. 2003, see https://www.jmlr.org/papers/volume3/bengio03a/bengio03a.pdf. We construct class objects for our model mimicking PyTorch Sequentianal container and layers. We buid a batch normalisation layer following the 2015 paper of Ioffe and Szegedy, see https://arxiv.org/abs/1502.03167."
   ]
  },
  {
   "cell_type": "code",
   "execution_count": 1,
   "id": "0607f15e",
   "metadata": {},
   "outputs": [],
   "source": [
    "import torch\n",
    "import torch.nn.functional as F\n",
    "import matplotlib.pyplot as plt\n",
    "%matplotlib inline\n",
    "import time"
   ]
  },
  {
   "cell_type": "code",
   "execution_count": 2,
   "id": "c8d2eba5",
   "metadata": {},
   "outputs": [
    {
     "name": "stdout",
     "output_type": "stream",
     "text": [
      "total of 32033 names\n"
     ]
    },
    {
     "data": {
      "text/plain": [
       "['emma',\n",
       " 'olivia',\n",
       " 'ava',\n",
       " 'isabella',\n",
       " 'sophia',\n",
       " 'charlotte',\n",
       " 'mia',\n",
       " 'amelia',\n",
       " 'harper',\n",
       " 'evelyn']"
      ]
     },
     "execution_count": 2,
     "metadata": {},
     "output_type": "execute_result"
    }
   ],
   "source": [
    "\n",
    "# load a list of popular names\n",
    "words = open('names.txt','r').read().splitlines()\n",
    "print(f'total of {len(words)} names')\n",
    "words[:10]"
   ]
  },
  {
   "cell_type": "code",
   "execution_count": 3,
   "id": "d6ec67b2",
   "metadata": {},
   "outputs": [
    {
     "name": "stdout",
     "output_type": "stream",
     "text": [
      "{1: 'a', 2: 'b', 3: 'c', 4: 'd', 5: 'e', 6: 'f', 7: 'g', 8: 'h', 9: 'i', 10: 'j', 11: 'k', 12: 'l', 13: 'm', 14: 'n', 15: 'o', 16: 'p', 17: 'q', 18: 'r', 19: 's', 20: 't', 21: 'u', 22: 'v', 23: 'w', 24: 'x', 25: 'y', 26: 'z', 0: '.'}\n"
     ]
    }
   ],
   "source": [
    "# build the vocabulary of characters and mappings to/from integers\n",
    "chars = sorted(list(set(''.join(words)))) # get a sorted list of unique characters in words\n",
    "\n",
    "# get a mapping of characters to their indices, then add start/end special token\n",
    "s_to_i = {s : i+1 for i,s in enumerate(chars)}\n",
    "s_to_i['.'] = 0 \n",
    "\n",
    "# invert s_to_i\n",
    "i_to_s = {i : s for s,i in s_to_i.items()}\n",
    "vocab_size = len(s_to_i)\n",
    "print(i_to_s)"
   ]
  },
  {
   "cell_type": "code",
   "execution_count": 4,
   "id": "b66e1b90",
   "metadata": {},
   "outputs": [],
   "source": [
    "# build the dataset\n",
    "\n",
    "def build_dataset(words, block_size = 3):\n",
    "    \n",
    "    # block_size is the context length: number of charachters we consider to predict the next one\n",
    "    X, Y = [], []\n",
    "\n",
    "    for w in words:\n",
    "        context = [0] * block_size # create the sliding window, context filled with '.'\n",
    "\n",
    "        # loop over charachters in the word w\n",
    "        for char in w + '.':\n",
    "            ix = s_to_i[char] # get the index of character char\n",
    "            X.append(context) # add the \n",
    "            Y.append(ix) # add char index to the sequence\n",
    "    #         print(''.join(i_to_s[i] for i in context), '--->', i_to_s[ix]) # print the context and the next character\n",
    "            context = context[1:] + [ix] # crop the old context and add the next character\n",
    "    X = torch.tensor(X)\n",
    "    Y = torch.tensor(Y)\n",
    "    print(X.shape, X.dtype, Y.shape, Y.dtype)\n",
    "    return X, Y"
   ]
  },
  {
   "cell_type": "code",
   "execution_count": 5,
   "id": "274ffb95",
   "metadata": {},
   "outputs": [
    {
     "name": "stdout",
     "output_type": "stream",
     "text": [
      "torch.Size([182625, 5]) torch.int64 torch.Size([182625]) torch.int64\n",
      "torch.Size([22655, 5]) torch.int64 torch.Size([22655]) torch.int64\n",
      "torch.Size([22866, 5]) torch.int64 torch.Size([22866]) torch.int64\n"
     ]
    }
   ],
   "source": [
    "import random\n",
    "random.seed(42)\n",
    "random.shuffle(words)\n",
    "n1 = int(.8*len(words))\n",
    "n2 = int(.9*len(words))\n",
    "\n",
    "block_size = 5\n",
    "\n",
    "# build train, validation and test datasets\n",
    "X_train, Y_train = build_dataset(words[:n1], block_size = block_size)\n",
    "X_val, Y_val = build_dataset(words[n1:n2], block_size = block_size)\n",
    "X_test, Y_test = build_dataset(words[n2:], block_size = block_size)"
   ]
  },
  {
   "cell_type": "code",
   "execution_count": 6,
   "id": "d6dc801d",
   "metadata": {},
   "outputs": [
    {
     "data": {
      "text/plain": [
       "<torch._C.Generator at 0x7fcb387b4550>"
      ]
     },
     "execution_count": 6,
     "metadata": {},
     "output_type": "execute_result"
    }
   ],
   "source": [
    "torch.manual_seed(42)"
   ]
  },
  {
   "cell_type": "markdown",
   "id": "85b76761",
   "metadata": {},
   "source": [
    "First, we implement the Bengio et. al. model. The model has three layers. The first is the embedding layer, which allows to learn similiarities between different characters, see e.g. Goodfellow et. al. The other two layers are the linear transformation layer and the hyperbolic tangent nonlinearity layer."
   ]
  },
  {
   "cell_type": "code",
   "execution_count": 7,
   "id": "a1256156",
   "metadata": {},
   "outputs": [],
   "source": [
    "class Embedding:\n",
    "    \n",
    "    def __init__(self, num_embeddings, embedding_dim):\n",
    "        self.weight = torch.randn((num_embeddings, embedding_dim))\n",
    "        \n",
    "    def __call__(self, ix):\n",
    "        self.out = self.weight[ix] \n",
    "        return self.out\n",
    "    \n",
    "    def parameters(self):\n",
    "        return []  \n",
    "    \n",
    "class Flatten:\n",
    "        \n",
    "    def __call__(self, x):\n",
    "        self.out = x.view(x.shape[0], -1)\n",
    "        return self.out\n",
    "    \n",
    "    def parameters(self):\n",
    "        return []"
   ]
  },
  {
   "cell_type": "code",
   "execution_count": 8,
   "id": "213431fa",
   "metadata": {},
   "outputs": [],
   "source": [
    "class Linear:\n",
    "    # Linear transformation neural layer\n",
    "    def __init__(self, n_in, n_out, bias = True):\n",
    "        self.weight = torch.randn((n_in, n_out)) / n_in**.5 # Kaiming initialisation\n",
    "        self.bias = torch.zeros(n_out) if bias else None\n",
    "        \n",
    "    def __call__(self, x):\n",
    "        self.out = x @ self.weight \n",
    "        \n",
    "        if self.bias is not None:\n",
    "            self.out += self.bias\n",
    "            \n",
    "        return self.out\n",
    "    \n",
    "    def parameters(self):\n",
    "        return [self.weight] + ([] if self.bias is None else [self.bias])"
   ]
  },
  {
   "cell_type": "code",
   "execution_count": 9,
   "id": "6b8e5e42",
   "metadata": {},
   "outputs": [],
   "source": [
    "class Tanh:\n",
    "    # tanh non-lineraity layer\n",
    "    def __call__(self, x):\n",
    "        self.out = torch.tanh(x)\n",
    "        return self.out\n",
    "    \n",
    "    def parameters(self):\n",
    "        return []"
   ]
  },
  {
   "cell_type": "markdown",
   "id": "2f961168",
   "metadata": {},
   "source": [
    "Next, we implement the batch normalisation layer. We do so as follows. Let $x = (x_1, \\ldots, x_n)$ be the input to the layer. We standardise the input layers as \n",
    "\\begin{align}\n",
    "    \\hat{x}_i \\leftarrow \\frac{x_i - \\mu_{\\mathcal{B}}}{\\sqrt{\\sigma_{\\mathcal{B}}^2 + \\varepsilon}}\n",
    "    ,\n",
    "\\end{align}\n",
    "where $\\mu_{\\mathcal{B}} = \\frac{1}{n} \\sum_{i=1}^n x_i $ and $\\sigma_{\\mathcal{B}}^2 = \\frac{1}{n+1} \\sum_{i=1}^n ( x_i - \\mu_{\\mathcal{B}})^2$ are the batch mean and batch variance, respectively, and $\\varepsilon$ is a small constant added for numerical stability. Note, that we deviate from the original paper and choose to use the unbiased estimator for the variance. Then, we scale the resulting standardised input by $\\gamma$ and shift it by $\\beta$ as\n",
    "\\begin{align}\n",
    "    \\text{output}_i \\leftarrow \\gamma  \\hat{x}_i + \\beta\n",
    "    .\n",
    "\\end{align}\n",
    "Note, that the latter shift effecively eliminates the need for the bias parameter in the Linear layer."
   ]
  },
  {
   "cell_type": "code",
   "execution_count": 10,
   "id": "eed71ec2",
   "metadata": {},
   "outputs": [],
   "source": [
    "class BatchNorm1d:\n",
    "    # batch normalisation layer\n",
    "    def __init__(self, dim, eps = 1e-05, momentum = .1):\n",
    "        \n",
    "        self.eps = eps\n",
    "        self.momentum = momentum\n",
    "        self.training = True # distinguish between batchnorm for training and for evaluation modes\n",
    "        \n",
    "        # parameter trained with backpropogation\n",
    "        self.gamma = torch.ones(dim) # scale parameter\n",
    "        self.beta = torch.zeros(dim) # shift parameter\n",
    "        \n",
    "        # buffers trained with 'momentum update'\n",
    "        self.running_mean = torch.zeros(dim)\n",
    "        self.running_var = torch.ones(dim)\n",
    "        \n",
    "    def __call__(self, x):\n",
    "        \n",
    "        # forward pass\n",
    "        if self.training == True:\n",
    "            x_mean = x.mean(0, keepdim = True) # use batch mean\n",
    "            x_var = x.var(0, keepdim = True) # use batch variance\n",
    "        else:\n",
    "            x_mean = self.running_mean\n",
    "            x_var = self.running_var\n",
    "            \n",
    "        x_hat = (x - x_mean)/torch.sqrt(x_var + self.eps) # standardise\n",
    "        self.out = self.gamma * x_hat + self.beta \n",
    "        \n",
    "        if self.training:\n",
    "            with torch.no_grad():\n",
    "                self.running_mean = (1 - self.momentum) * self.running_mean + self.momentum * x_mean\n",
    "                self.running_var = (1 - self.momentum) * self.running_var + self.momentum * x_var\n",
    "                \n",
    "        return self.out\n",
    "    \n",
    "    def parameters(self):\n",
    "        return [self.gamma, self.beta]"
   ]
  },
  {
   "cell_type": "code",
   "execution_count": 11,
   "id": "84282c9a",
   "metadata": {},
   "outputs": [],
   "source": [
    "class Sequential:\n",
    "    # container for the layers\n",
    "    def __init__(self, layers):\n",
    "        self.layers = layers\n",
    "        \n",
    "    def __repr__(self):\n",
    "        return f'Sequential model, number of layers: {len(self.layers)}, number of parameters: {sum([p.numel() for layer in self.layers for p in layer.parameters()])}'\n",
    "    \n",
    "    def __call__(self, x):\n",
    "        for layer in self.layers:\n",
    "            x = layer(x)\n",
    "        self.out = x\n",
    "        return self.out\n",
    "    \n",
    "    def add(self, layer):\n",
    "        self.layers.append(layer)\n",
    "    \n",
    "    def parameters(self):\n",
    "        return [p for layer in self.layers for p in layer.parameters()]"
   ]
  },
  {
   "cell_type": "code",
   "execution_count": 12,
   "id": "c61a0332",
   "metadata": {},
   "outputs": [
    {
     "name": "stdout",
     "output_type": "stream",
     "text": [
      "number of parameters: 20827\n"
     ]
    }
   ],
   "source": [
    "n_embd = 15\n",
    "n_hidden = 200\n",
    "\n",
    "model = Sequential([\n",
    "    Embedding(vocab_size, n_embd),\n",
    "    Flatten(),\n",
    "    Linear(n_embd * block_size, n_hidden, bias=False), \n",
    "    BatchNorm1d(n_hidden), \n",
    "    Tanh(),\n",
    "    Linear(n_hidden, vocab_size)]) \n",
    "\n",
    "print(f'number of parameters: { sum([p.numel() for layer in model.layers for p in layer.parameters()])}')\n",
    "\n",
    "with torch.no_grad():\n",
    "    model.layers[-1].weight *= .1\n",
    "    \n",
    "for p in model.parameters(): \n",
    "    p.requires_grad = True"
   ]
  },
  {
   "cell_type": "code",
   "execution_count": 13,
   "id": "f03418d5",
   "metadata": {},
   "outputs": [],
   "source": [
    "lossi = []\n",
    "batch_size = 32\n",
    "def train(X, Y, n_epochs = 10000, lr = .1, verbose = True):\n",
    "    for i in range(n_epochs):\n",
    "        # minibatch construct\n",
    "        ix = torch.randint(0, X_train.shape[0], (batch_size,))\n",
    "        X_batch, Y_batch = X_train[ix], Y_train[ix]\n",
    "        \n",
    "        # forward pass\n",
    "        logits = model(X_batch)\n",
    "        \n",
    "        loss = F.cross_entropy(logits, Y_batch) # compute the loss\n",
    "        \n",
    "        # backward pass\n",
    "        for p in model.parameters():\n",
    "            p.grad = None\n",
    "\n",
    "        loss.backward()\n",
    "        \n",
    "        # update\n",
    "        lr = lr if i < int(n_epochs/1.5) else lr/10 # lower learning rate for the end of training\n",
    "        \n",
    "        for p in model.parameters():\n",
    "            p.data += -lr * p.grad\n",
    "            \n",
    "        # track stats\n",
    "        if verbose and i % 10000 == 0: # print the loss every once in a while\n",
    "            print(f'{i:7d}/{n_epochs:7d}: {loss.item():.4f}')\n",
    "        lossi.append(loss.log10().item())\n",
    "        \n",
    "    print(f'epoch {n_epochs:7d}/{n_epochs:7d}: {loss.item():.4f}')"
   ]
  },
  {
   "cell_type": "code",
   "execution_count": 14,
   "id": "409801d2",
   "metadata": {},
   "outputs": [
    {
     "name": "stdout",
     "output_type": "stream",
     "text": [
      "      0/ 200000: 3.3066\n",
      "  10000/ 200000: 1.8110\n",
      "  20000/ 200000: 1.8158\n",
      "  30000/ 200000: 2.6247\n",
      "  40000/ 200000: 2.4269\n",
      "  50000/ 200000: 2.2451\n",
      "  60000/ 200000: 2.0184\n",
      "  70000/ 200000: 1.9842\n",
      "  80000/ 200000: 2.0814\n",
      "  90000/ 200000: 2.0417\n",
      " 100000/ 200000: 1.9373\n",
      " 110000/ 200000: 2.1570\n",
      " 120000/ 200000: 2.0054\n",
      " 130000/ 200000: 2.4627\n",
      " 140000/ 200000: 2.0988\n",
      " 150000/ 200000: 2.1580\n",
      " 160000/ 200000: 1.8792\n",
      " 170000/ 200000: 1.9016\n",
      " 180000/ 200000: 2.0292\n",
      " 190000/ 200000: 2.5036\n",
      " 200000/ 200000: 2.0950\n"
     ]
    }
   ],
   "source": [
    "n_epochs = 200000\n",
    "\n",
    "train(X_train, Y_train, n_epochs = n_epochs)"
   ]
  },
  {
   "cell_type": "code",
   "execution_count": 15,
   "id": "80233b89",
   "metadata": {},
   "outputs": [
    {
     "data": {
      "text/plain": [
       "[<matplotlib.lines.Line2D at 0x7fcb084bd5b0>]"
      ]
     },
     "execution_count": 15,
     "metadata": {},
     "output_type": "execute_result"
    },
    {
     "data": {
      "image/png": "[encoded data removed]",
      "text/plain": [
       "<Figure size 640x480 with 1 Axes>"
      ]
     },
     "metadata": {},
     "output_type": "display_data"
    }
   ],
   "source": [
    "plt.plot(torch.tensor(lossi).view(-1,1000).mean(1))"
   ]
  },
  {
   "cell_type": "code",
   "execution_count": 16,
   "id": "984c34ba",
   "metadata": {},
   "outputs": [
    {
     "name": "stdout",
     "output_type": "stream",
     "text": [
      "Embedding : (32, 5, 15)\n",
      "Flatten : (32, 75)\n",
      "Linear : (32, 200)\n",
      "BatchNorm1d : (32, 200)\n",
      "Tanh : (32, 200)\n",
      "Linear : (32, 27)\n"
     ]
    }
   ],
   "source": [
    "for layer in model.layers:\n",
    "    print(layer.__class__.__name__,':', tuple(layer.out.shape))"
   ]
  },
  {
   "cell_type": "code",
   "execution_count": 17,
   "id": "30326cfc",
   "metadata": {
    "scrolled": true
   },
   "outputs": [],
   "source": [
    "for layer in model.layers:\n",
    "    layer.training = False"
   ]
  },
  {
   "cell_type": "code",
   "execution_count": 18,
   "id": "3cf48ebb",
   "metadata": {},
   "outputs": [
    {
     "name": "stdout",
     "output_type": "stream",
     "text": [
      "train 2.0433852672576904\n",
      "val 2.1237926483154297\n",
      "test 2.1199307441711426\n"
     ]
    }
   ],
   "source": [
    "@torch.no_grad()\n",
    "def split_loss(split):\n",
    "    x,y = {\n",
    "        'train': (X_train, Y_train),\n",
    "        'val': (X_val, Y_val),\n",
    "        'test': (X_test, Y_test),\n",
    "    }[split]\n",
    "    \n",
    "    logits = model(x)\n",
    "    loss = F.cross_entropy(logits,y)\n",
    "    print(split,loss.item())\n",
    "split_loss('train')\n",
    "split_loss('val')\n",
    "split_loss('test')"
   ]
  },
  {
   "cell_type": "code",
   "execution_count": 19,
   "id": "5b96f81d",
   "metadata": {},
   "outputs": [
    {
     "name": "stdout",
     "output_type": "stream",
     "text": [
      "jaciel.\n",
      "milla.\n",
      "maylee.\n",
      "darhon.\n",
      "lecse.\n",
      "zohenicole.\n",
      "sylahak.\n",
      "derianvioa.\n",
      "adelynn.\n",
      "juli.\n",
      "madelinn.\n",
      "ariheo.\n",
      "milliani.\n",
      "evania.\n",
      "irakelleany.\n",
      "kolana.\n",
      "igonn.\n",
      "sardon.\n",
      "maria.\n",
      "arfa.\n"
     ]
    }
   ],
   "source": [
    "for _ in range(20):\n",
    "    \n",
    "    out = []\n",
    "    context = [0] * block_size # initialize with all ...\n",
    "    while True:\n",
    "      # forward pass the neural net\n",
    "        logits = model(torch.tensor([context]))\n",
    "        probs = F.softmax(logits, dim=1)\n",
    "      # sample from the distribution\n",
    "        ix = torch.multinomial(probs, num_samples=1).item()\n",
    "      # shift the context window and track the samples\n",
    "        context = context[1:] + [ix]\n",
    "        out.append(ix)\n",
    "      # if we sample the special '.' token, break\n",
    "        if ix == 0:\n",
    "            break\n",
    "    \n",
    "    print(''.join(i_to_s[i] for i in out)) # decode and print the generated word"
   ]
  }
 ],
 "metadata": {
  "kernelspec": {
   "display_name": "Python 3 (ipykernel)",
   "language": "python",
   "name": "python3"
  },
  "language_info": {
   "codemirror_mode": {
    "name": "ipython",
    "version": 3
   },
   "file_extension": ".py",
   "mimetype": "text/x-python",
   "name": "python",
   "nbconvert_exporter": "python",
   "pygments_lexer": "ipython3",
   "version": "3.9.13"
  }
 },
 "nbformat": 4,
 "nbformat_minor": 5
}
