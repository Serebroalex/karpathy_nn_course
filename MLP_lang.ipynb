{
 "cells": [
  {
   "cell_type": "markdown",
   "id": "53954fa4",
   "metadata": {},
   "source": [
    "Here we shall implement the model of \"A Neural Probabilistic Language Model\" of Bengio et. al. 2003, see https://www.jmlr.org/papers/volume3/bengio03a/bengio03a.pdf."
   ]
  },
  {
   "cell_type": "code",
   "execution_count": 1,
   "id": "0607f15e",
   "metadata": {},
   "outputs": [],
   "source": [
    "import torch\n",
    "import torch.nn.functional as F\n",
    "import matplotlib.pyplot as plt\n",
    "%matplotlib inline\n",
    "import time"
   ]
  },
  {
   "cell_type": "code",
   "execution_count": 2,
   "id": "c8d2eba5",
   "metadata": {},
   "outputs": [
    {
     "name": "stdout",
     "output_type": "stream",
     "text": [
      "total of 32033 names\n"
     ]
    },
    {
     "data": {
      "text/plain": [
       "['emma',\n",
       " 'olivia',\n",
       " 'ava',\n",
       " 'isabella',\n",
       " 'sophia',\n",
       " 'charlotte',\n",
       " 'mia',\n",
       " 'amelia',\n",
       " 'harper',\n",
       " 'evelyn']"
      ]
     },
     "execution_count": 2,
     "metadata": {},
     "output_type": "execute_result"
    }
   ],
   "source": [
    "\n",
    "# load a list of popular names\n",
    "words = open('names.txt','r').read().splitlines()\n",
    "print(f'total of {len(words)} names')\n",
    "words[:10]"
   ]
  },
  {
   "cell_type": "code",
   "execution_count": 3,
   "id": "d6ec67b2",
   "metadata": {},
   "outputs": [
    {
     "name": "stdout",
     "output_type": "stream",
     "text": [
      "{1: 'a', 2: 'b', 3: 'c', 4: 'd', 5: 'e', 6: 'f', 7: 'g', 8: 'h', 9: 'i', 10: 'j', 11: 'k', 12: 'l', 13: 'm', 14: 'n', 15: 'o', 16: 'p', 17: 'q', 18: 'r', 19: 's', 20: 't', 21: 'u', 22: 'v', 23: 'w', 24: 'x', 25: 'y', 26: 'z', 0: '.'}\n"
     ]
    }
   ],
   "source": [
    "# build the vocabulary of characters and mappings to/from integers\n",
    "chars = sorted(list(set(''.join(words)))) # get a sorted list of unique characters in words\n",
    "\n",
    "# get a mapping of characters to their indices, then add start/end special token\n",
    "s_to_i = {s : i+1 for i,s in enumerate(chars)}\n",
    "s_to_i['.'] = 0 \n",
    "\n",
    "# invert s_to_i\n",
    "i_to_s = {i : s for s,i in s_to_i.items()}\n",
    "\n",
    "print(i_to_s)"
   ]
  },
  {
   "cell_type": "code",
   "execution_count": 4,
   "id": "b66e1b90",
   "metadata": {},
   "outputs": [],
   "source": [
    "# build the dataset\n",
    "\n",
    "def build_dataset(words, block_size = 3):\n",
    "    \n",
    "    # block_size is the context length: number of charachters we consider to predict the next one\n",
    "    X, Y = [], []\n",
    "\n",
    "    for w in words:\n",
    "        context = [0] * block_size # create the sliding window, context filled with '.'\n",
    "\n",
    "        # loop over charachters in the word w\n",
    "        for char in w + '.':\n",
    "            ix = s_to_i[char] # get the index of character char\n",
    "            X.append(context) # add the \n",
    "            Y.append(ix) # add char index to the sequence\n",
    "    #         print(''.join(i_to_s[i] for i in context), '--->', i_to_s[ix]) # print the context and the next character\n",
    "            context = context[1:] + [ix] # crop the old context and add the next character\n",
    "    X = torch.tensor(X)\n",
    "    Y = torch.tensor(Y)\n",
    "    print(X.shape, X.dtype, Y.shape, Y.dtype)\n",
    "    return X, Y"
   ]
  },
  {
   "cell_type": "code",
   "execution_count": 5,
   "id": "274ffb95",
   "metadata": {},
   "outputs": [
    {
     "name": "stdout",
     "output_type": "stream",
     "text": [
      "torch.Size([182625, 5]) torch.int64 torch.Size([182625]) torch.int64\n",
      "torch.Size([22655, 5]) torch.int64 torch.Size([22655]) torch.int64\n",
      "torch.Size([22866, 5]) torch.int64 torch.Size([22866]) torch.int64\n"
     ]
    }
   ],
   "source": [
    "import random\n",
    "random.seed(42)\n",
    "random.shuffle(words)\n",
    "\n",
    "n1 = int(.8*len(words))\n",
    "n2 = int(.9*len(words))\n",
    "\n",
    "block_size = 5\n",
    "\n",
    "# build train, validation and test datasets\n",
    "X_train, Y_train = build_dataset(words[:n1], block_size = block_size)\n",
    "X_val, Y_val = build_dataset(words[n1:n2], block_size = block_size)\n",
    "X_test, Y_test = build_dataset(words[n2:], block_size = block_size)"
   ]
  },
  {
   "cell_type": "code",
   "execution_count": 6,
   "id": "95881f31",
   "metadata": {},
   "outputs": [],
   "source": [
    "class MLP_lang():\n",
    "    \n",
    "    def __init__(self, n_emb = 2, hidden_size = 200, seed = 42, block_size = 3):\n",
    "        \n",
    "        self.n_emb = n_emb\n",
    "        self.block_size = block_size\n",
    "        g = torch.Generator().manual_seed(2147483647)\n",
    "\n",
    "        # initialise the network parameters\n",
    "\n",
    "        C = torch.randn((len(s_to_i),n_emb), generator = g)\n",
    "        W1 = torch.randn((block_size*n_emb,hidden_size), generator = g)\n",
    "        W2 = torch.randn((hidden_size,len(s_to_i)), generator = g)\n",
    "        b1 = torch.randn(hidden_size, generator = g)\n",
    "        b2 = torch.randn(len(s_to_i), generator = g)\n",
    "        \n",
    "        \n",
    "        \n",
    "        self.parameters = [C, W1, W2, b1, b2]\n",
    "        \n",
    "        for k in self.parameters:\n",
    "            k.requires_grad = True\n",
    "        \n",
    "        self.n_params = sum(k.numel() for k in self.parameters) # number of parameters\n",
    "        \n",
    "        # training history\n",
    "        self.lossi = []\n",
    "        self.stepi = []\n",
    "    \n",
    "    def fit(self, X_train, Y_train, lr = .01, n_epochs = 1000, verbose = False, batch_size = 32, decay = True, alpha = .5, step = 50000):\n",
    "        t = time.time()\n",
    "        # get the network parameters\n",
    "        C = self.parameters[0]\n",
    "        W1 = self.parameters[1]\n",
    "        W2 = self.parameters[2]\n",
    "        b1 = self.parameters[3]\n",
    "        b2 = self.parameters[4]\n",
    "        \n",
    "        if decay == True:\n",
    "            l0 = lr\n",
    "        \n",
    "        t_len = len(self.stepi) # number of epochs trained previously\n",
    "        \n",
    "        for i in range(n_epochs):\n",
    "\n",
    "            # construct a minibatch\n",
    "            ix = torch.randint(0,X_train.shape[0],(batch_size,))\n",
    "\n",
    "            # forward pass\n",
    "            emb = C[X_train[ix]] # create the embedding matrix\n",
    "            h = torch.tanh(emb.view(-1,self.block_size*self.n_emb) @ W1 + b1) # hidden layer \n",
    "            logits = h @ W2 + b2 # output\n",
    "\n",
    "            # compute the loss\n",
    "            loss = F.cross_entropy(logits,Y_train[ix])\n",
    "            \n",
    "            if verbose:\n",
    "                print(f'training loss: {loss}')\n",
    "\n",
    "            # backward pass\n",
    "            for k in self.parameters:\n",
    "                k.grad = None\n",
    "                \n",
    "            loss.backward()\n",
    "            \n",
    "            if decay == True:\n",
    "                lr = l0*alpha**torch.floor(torch.tensor((1 + t_len + i)//step))\n",
    "                \n",
    "            # update\n",
    "            for k in self.parameters:\n",
    "                k.data += -lr * k.grad\n",
    "                \n",
    "            # track the training statistics\n",
    "            self.stepi.append(t_len + i)\n",
    "            self.lossi.append(loss.log10().item())\n",
    "            \n",
    "        # save the trained model parameters\n",
    "        self.parameters[0] = C\n",
    "        self.parameters[1] = W1\n",
    "        self.parameters[2] = W2\n",
    "        self.parameters[3] = b1\n",
    "        self.parameters[4] = b2\n",
    "\n",
    "        print(f'training loss: {loss:.6f}')\n",
    "        print(f'training time: {time.time()-t:.4f} seconds')\n",
    "        plt.plot(self.stepi, self.lossi)\n",
    "        \n",
    "    def print_loss(self, X, Y,):\n",
    "        \n",
    "        emb = self.parameters[0][X] # create the embedding matrix\n",
    "        h = torch.tanh(emb.view(-1,self.block_size*self.n_emb) @ self.parameters[1] + self.parameters[3]) # hidden layer \n",
    "        logits = h @ self.parameters[2] + self.parameters[4] # output\n",
    "        loss = F.cross_entropy(logits,Y)\n",
    "        print(f'loss: {loss:.6f}')\n",
    "        \n",
    "        \n",
    "    def emb_plot(self):\n",
    "        # visualize dimensions 0 and 1 of the embedding matrix C for all characters\n",
    "        plt.figure(figsize = (8,8))\n",
    "        plt.scatter(self.parameters[0][:,0].data, self.parameters[0][:,1].data, s = 200)\n",
    "        for i in range(self.parameters[0].shape[0]):\n",
    "            plt.text(self.parameters[0][i,0].item(), self.parameters[0][i,1].item(), i_to_s[i], ha = \"center\", va = \"center\", color = 'white')\n",
    "        plt.grid('minor')\n",
    "    \n",
    "        \n",
    "    def sample(self, k = 10, seed = 42):\n",
    "        # sample k names from the model\n",
    "        g = torch.Generator().manual_seed(seed)\n",
    "\n",
    "        for _ in range(k):\n",
    "    \n",
    "            out = []\n",
    "            context = [0] * self.block_size\n",
    "            while True:\n",
    "                emb = self.parameters[0][torch.tensor([context])] # (1,block_size,d) # embed the current context\n",
    "                h = torch.tanh(emb.view(1,-1) @ self.parameters[1] + self.parameters[3])\n",
    "                logits = h @ self.parameters[2] + self.parameters[4]\n",
    "                probs = F.softmax(logits, dim=1)\n",
    "                ix = torch.multinomial(probs, num_samples = 1, generator = g).item()\n",
    "                context = context[1:] + [ix]\n",
    "                out.append(ix)\n",
    "                if ix == 0:\n",
    "                    break\n",
    "    \n",
    "            print(''.join(i_to_s[i] for i in out))   "
   ]
  },
  {
   "cell_type": "code",
   "execution_count": 7,
   "id": "68b2b1f2",
   "metadata": {},
   "outputs": [],
   "source": [
    "model = MLP_lang(n_emb = 15, hidden_size = 200, block_size = block_size)"
   ]
  },
  {
   "cell_type": "code",
   "execution_count": 8,
   "id": "af558290",
   "metadata": {},
   "outputs": [
    {
     "name": "stdout",
     "output_type": "stream",
     "text": [
      "training loss: 2.143074\n",
      "training time: 205.6225 seconds\n",
      "loss: 2.095236\n",
      "loss: 2.099585\n"
     ]
    },
    {
     "data": {
      "image/png": "[encoded data removed]",
      "text/plain": [
       "<Figure size 640x480 with 1 Axes>"
      ]
     },
     "metadata": {},
     "output_type": "display_data"
    }
   ],
   "source": [
    "model.fit(X_train, Y_train, lr = .5, n_epochs = 500000, decay = True, alpha = .5, step = 50000)\n",
    "model.print_loss(X_val, Y_val)\n",
    "model.print_loss(X_test, Y_test)"
   ]
  },
  {
   "cell_type": "code",
   "execution_count": 9,
   "id": "10e8eb94",
   "metadata": {},
   "outputs": [
    {
     "data": {
      "image/png": "[encoded data removed]",
      "text/plain": [
       "<Figure size 800x800 with 1 Axes>"
      ]
     },
     "metadata": {},
     "output_type": "display_data"
    }
   ],
   "source": [
    "model.emb_plot()"
   ]
  },
  {
   "cell_type": "code",
   "execution_count": 10,
   "id": "12be4bf0",
   "metadata": {},
   "outputs": [
    {
     "name": "stdout",
     "output_type": "stream",
     "text": [
      "ye.\n",
      "syahle.\n",
      "amen.\n",
      "leekhim.\n",
      "maryya.\n",
      "tryvid.\n",
      "chenger.\n",
      "ellyanni.\n",
      "eryskella.\n",
      "long.\n",
      "oyzae.\n",
      "tywennzol.\n",
      "noez.\n",
      "jensen.\n",
      "lamiya.\n",
      "nacell.\n",
      "kaylyn.\n",
      "zeria.\n",
      "reen.\n",
      "kelsum.\n",
      "ledei.\n",
      "tory.\n",
      "rinochan.\n",
      "davyana.\n",
      "breeds.\n",
      "kaysyah.\n",
      "thaela.\n",
      "mine.\n",
      "zaila.\n",
      "aeleen.\n"
     ]
    }
   ],
   "source": [
    "model.sample(30)"
   ]
  }
 ],
 "metadata": {
  "kernelspec": {
   "display_name": "Python 3 (ipykernel)",
   "language": "python",
   "name": "python3"
  },
  "language_info": {
   "codemirror_mode": {
    "name": "ipython",
    "version": 3
   },
   "file_extension": ".py",
   "mimetype": "text/x-python",
   "name": "python",
   "nbconvert_exporter": "python",
   "pygments_lexer": "ipython3",
   "version": "3.9.13"
  }
 },
 "nbformat": 4,
 "nbformat_minor": 5
}
